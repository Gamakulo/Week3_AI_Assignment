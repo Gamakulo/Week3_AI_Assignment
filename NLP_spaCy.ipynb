{
 "cells": [
  {
   "cell_type": "code",
   "execution_count": null,
   "id": "f6d305f8",
   "metadata": {},
   "outputs": [],
   "source": [
    "#Task 3: NLP with spaCy (Amazon Reviews)\n",
    "# Libraries\n",
    "import spacy\n",
    "from spacy import displacy\n",
    "from textblob import TextBlob # Simple library for sentiment analysis\n",
    "\n",
    "# Step 1: Load the medium English model (has word vectors and NER)\n",
    "nlp = spacy.load(\"en_core_web_sm\")\n",
    "\n",
    "# Sample reviews\n",
    "sample_reviews = [\n",
    "    \"I absolutely love my new Kindle Paperwhite. The battery life is incredible and the screen is easy on the eyes.\",\n",
    "    \"Do not buy this Echo Dot. It stopped working after two weeks and Amazon support was unhelpful.\",\n",
    "    \"The Samsung Galaxy S21 is a fantastic phone. The camera quality is superb, especially in low light.\"\n",
    "]\n",
    "\n",
    "# Step 2: Perform Named Entity Recognition (NER) and Rule-Based Sentiment\n",
    "for review in sample_reviews:\n",
    "    doc = nlp(review)\n",
    "    \n",
    "    print(f\"Review: {review}\")\n",
    "    print(\"Extracted Entities:\")\n",
    "    for ent in doc.ents:\n",
    "        # Focus on products (PRODUCT), organizations (ORG), and brands\n",
    "        if ent.label_ in [\"PRODUCT\", \"ORG\"]:\n",
    "            print(f\"  - {ent.text} ({ent.label_})\")\n",
    "    \n",
    "    # Simple Rule-Based Sentiment using TextBlob\n",
    "    analysis = TextBlob(review)\n",
    "    # TextBlob returns polarity between -1 (negative) and +1 (positive)\n",
    "    if analysis.sentiment.polarity > 0.1:\n",
    "        sentiment = \"POSITIVE\"\n",
    "    elif analysis.sentiment.polarity < -0.1:\n",
    "        sentiment = \"NEGATIVE\"\n",
    "    else:\n",
    "        sentiment = \"NEUTRAL\"\n",
    "        \n",
    "    print(f\"Sentiment: {sentiment} (Polarity: {analysis.sentiment.polarity:.2f})\")\n",
    "    print(\"-\" * 50)\n",
    "\n",
    "# Visualize the dependency parse for one review\n",
    "doc = nlp(sample_reviews[0])\n",
    "displacy.serve(doc, style=\"dep\") # Opens in your browser\n",
    "# In jupiter\n",
    "displacy.render(doc, style=\"dep\", jupyter=True)"
   ]
  }
 ],
 "metadata": {
  "language_info": {
   "name": "python"
  }
 },
 "nbformat": 4,
 "nbformat_minor": 5
}
