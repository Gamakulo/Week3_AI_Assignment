{
 "cells": [
  {
   "cell_type": "code",
   "execution_count": null,
   "id": "44dcc120",
   "metadata": {},
   "outputs": [],
   "source": [
    "#Task 1: Classical ML with Scikit-learn (Iris Dataset)\n",
    "#Step 1: Import the Libraries needed\n",
    "import pandas as pd #high-level data structures like DataFrames and Series that make data cleaning, transformation, and analysis easier and faster.\n",
    "import numpy as np #arrays and performing mathematical operations efficiently.\n",
    "import matplotlib.pyplot as plt #data visualization library for creating static, animated, and interactive visualizations in Python.\n",
    "from sklearn.datasets import load_iris #load the iris dataset\n",
    "from sklearn.model_selection import train_test_split #split the dataset into training and testing sets\n",
    "from sklearn.tree import DecisionTreeClassifier #decision tree algorithm for classification tasks\n",
    "from sklearn.metrics import accuracy_score, classification_report, precision_score, recall_score\n",
    "from sklearn import tree #tools for visualizing decision trees\n",
    "\n",
    "# Step 2. Load and prepare the data\n",
    "iris = load_iris()\n",
    "X = iris.data  # Features: sepal length, sepal width, petal length, petal width\n",
    "y = iris.target # Target: species (0: setosa, 1: versicolor, 2: virginica)\n",
    "\n",
    "# Step 3. Split the data into training and testing sets\n",
    "X_train, X_test, y_train, y_test = train_test_split(X, y, test_size=0.3, random_state=42) #test_size of 0.3 means 30% of the data will be used for testing, random_state=42 ensures reproducibility\n",
    "\n",
    "# Step 4. Build and train the model\n",
    "model = DecisionTreeClassifier(random_state=42) \n",
    "model.fit(X_train, y_train)\n",
    "\n",
    "# Step 5. Evaluate the model\n",
    "y_pred = model.predict(X_test)\n",
    "\n",
    "# Calculate metrics\n",
    "accuracy = accuracy_score(y_test, y_pred)\n",
    "# For multi-class, we need to specify average (e.g., 'macro', 'micro')\n",
    "precision = precision_score(y_test, y_pred, average='weighted')\n",
    "recall = recall_score(y_test, y_pred, average='weighted')\n",
    "\n",
    "print(f\"Accuracy: {accuracy:.2f}\")\n",
    "print(f\"Precision: {precision:.2f}\")\n",
    "print(f\"Recall: {recall:.2f}\")\n",
    "print(\"\\nClassification Report:\")\n",
    "print(classification_report(y_test, y_pred, target_names=iris.target_names))\n",
    "\n",
    "#Visualize the Decision Tree\n",
    "plt.figure(figsize=(12,8))\n",
    "tree.plot_tree(model, feature_names=iris.feature_names, class_names=iris.target_names, filled=True)\n",
    "plt.title(\"Decision Tree trained on Iris Dataset\")\n",
    "plt.savefig('iris_decision_tree.png') # Save for the report\n",
    "plt.show()"
   ]
  }
 ],
 "metadata": {
  "language_info": {
   "name": "python"
  }
 },
 "nbformat": 4,
 "nbformat_minor": 5
}
